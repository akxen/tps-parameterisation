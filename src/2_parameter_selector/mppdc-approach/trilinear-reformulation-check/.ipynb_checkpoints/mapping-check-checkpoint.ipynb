{
 "cells": [
  {
   "cell_type": "markdown",
   "metadata": {},
   "source": [
    "# Map variables\n",
    "Representation of trilinear monomials using convex envelopes is based on the method presented in [1]. The procedure to construct these envelopes requires that certain conditions must be satisified. For the case where: $\\underline{x} \\geq 0,\\quad \\underline{y} \\geq 0, \\quad \\underline{z} \\geq 0 $\n",
    "\n",
    "Variables from the problem in question must be mapped onto $x, y, z$ such that the following relations apply:\n",
    "\n",
    "$\\bar{x}\\underline{y}\\underline{z} + \\underline{x}\\bar{y}\\bar{z} \\leq \\underline{x}\\bar{y}\\underline{z} + \\bar{x}\\underline{y}\\bar{z}$\n",
    "\n",
    "and\n",
    "\n",
    "$\\bar{x}\\underline{y}\\underline{z} + \\underline{x}\\bar{y}\\bar{z} \\leq \\bar{x}\\bar{y}\\underline{z} + \\underline{x}\\underline{y}\\bar{x}$\n",
    "\n",
    "The following cells first map problem variables $\\phi, \\tau, p_{g,s}$ onto $x, y, z$. Bounds for these variables are then given, and the mapping checked to ensure the above relations hold.\n",
    "\n",
    "## Import packages"
   ]
  },
  {
   "cell_type": "code",
   "execution_count": 1,
   "metadata": {
    "collapsed": true
   },
   "outputs": [],
   "source": [
    "import os\n",
    "import pandas as pd"
   ]
  },
  {
   "cell_type": "markdown",
   "metadata": {},
   "source": [
    "## Paths to directories"
   ]
  },
  {
   "cell_type": "code",
   "execution_count": 2,
   "metadata": {},
   "outputs": [],
   "source": [
    "# Directory to core data directory\n",
    "data_dir = os.path.join(os.path.join(os.path.curdir, os.pardir, os.pardir, os.pardir, os.pardir, 'data'))"
   ]
  },
  {
   "cell_type": "markdown",
   "metadata": {},
   "source": [
    "## Load generator data"
   ]
  },
  {
   "cell_type": "code",
   "execution_count": 3,
   "metadata": {},
   "outputs": [],
   "source": [
    "# Generator technical parameters\n",
    "df = pd.read_csv(os.path.join(data_dir, 'egrimod-nem-dataset-v1.3', 'akxen-egrimod-nem-dataset-4806603', 'generators', 'generators.csv'), index_col='DUID')\n",
    "\n",
    "# Note: MIN_GEN in the database takes on positive values for some generators. For the purposes of this \n",
    "# analysis it is assumed all generators have minimum output of 0. Update values for MIN_GEN to zero.\n",
    "df['MIN_GEN'] = 0"
   ]
  },
  {
   "cell_type": "markdown",
   "metadata": {},
   "source": [
    "## Variable bounds"
   ]
  },
  {
   "cell_type": "code",
   "execution_count": 4,
   "metadata": {},
   "outputs": [],
   "source": [
    "# Upper bound for emissions intensity baseline, phi\n",
    "phi_max = 1.5\n",
    "\n",
    "# Lower bound for emissions intensity baseline, phi\n",
    "phi_min = 0\n",
    "\n",
    "# Upper boud for permit price, tau\n",
    "tau_max = 500\n",
    "\n",
    "# Lower bound for permit price, tau\n",
    "tau_min = 0"
   ]
  },
  {
   "cell_type": "markdown",
   "metadata": {},
   "source": [
    "## Map variables"
   ]
  },
  {
   "cell_type": "code",
   "execution_count": 5,
   "metadata": {},
   "outputs": [],
   "source": [
    "# Map permit price --> x\n",
    "x_up = tau_max\n",
    "x_lo = tau_min\n",
    "\n",
    "# Map baseline --> y\n",
    "y_up = phi_max\n",
    "y_lo = phi_min\n",
    "\n",
    "# Map generator output --> z\n",
    "z_up = df['REG_CAP'] /100\n",
    "z_lo = df['MIN_GEN'] /100"
   ]
  },
  {
   "cell_type": "markdown",
   "metadata": {},
   "source": [
    "Check that relations hold for given mapping."
   ]
  },
  {
   "cell_type": "code",
   "execution_count": 6,
   "metadata": {},
   "outputs": [
    {
     "name": "stdout",
     "output_type": "stream",
     "text": [
      "Both relations satisfied: True\n"
     ]
    }
   ],
   "source": [
    "# Relations to ensure appropriate mapping between problem variables and those in reformulation strategy\n",
    "relation_1 = (x_up * y_lo * z_lo) + (x_lo * y_up * z_up) <= (x_lo * y_up * z_lo) + (x_up * y_lo * z_up)\n",
    "relation_2 = (x_up * y_lo * z_lo) + (x_lo * y_up * z_up) <= (x_up * y_up * z_lo) + (x_lo * y_lo * z_up)\n",
    "\n",
    "print('Both relations satisfied: {}'.format(relation_1.all() and relation_2.all()))"
   ]
  },
  {
   "cell_type": "markdown",
   "metadata": {},
   "source": [
    "## References\n",
    "[1] - Meyer, C.A. and Floudas, C.A., 2004. Trilinear monomials with positive or negative domains: Facets of the convex and concave envelopes. In Frontiers in global optimization (pp. 327-352). Springer, Boston, MA."
   ]
  }
 ],
 "metadata": {
  "kernelspec": {
   "display_name": "opti env",
   "language": "python",
   "name": "opti"
  },
  "language_info": {
   "codemirror_mode": {
    "name": "ipython",
    "version": 3
   },
   "file_extension": ".py",
   "mimetype": "text/x-python",
   "name": "python",
   "nbconvert_exporter": "python",
   "pygments_lexer": "ipython3",
   "version": "3.6.2"
  }
 },
 "nbformat": 4,
 "nbformat_minor": 2
}
