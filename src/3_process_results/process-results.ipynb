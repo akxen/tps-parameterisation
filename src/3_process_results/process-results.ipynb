{
 "cells": [
  {
   "cell_type": "markdown",
   "metadata": {},
   "source": [
    "* X - Permit price and average price as function of baseline\n",
    "* X - Weighted RRN price and average price as a function of baseline\n",
    "* X - Weighted RRN price, average price, and price target - table\n",
    "* X - Permit price and permit price target difference between them - table\n",
    "* X - Change in relative costs for different types of generators - figure\n",
    "* Regional price - map of australia - overlaid with blue or red dots - indicates magnitude of price change - subfigures - for different price targets\n",
    "* X - Change in output from different types of generators - gas increase - coal decrease - for different baselines - emissions overlaid"
   ]
  },
  {
   "cell_type": "markdown",
   "metadata": {},
   "source": [
    "# Process Results"
   ]
  },
  {
   "cell_type": "code",
   "execution_count": 1,
   "metadata": {
    "collapsed": true
   },
   "outputs": [],
   "source": [
    "import os\n",
    "import re\n",
    "import math\n",
    "import pickle\n",
    "\n",
    "import numpy as np\n",
    "import pandas as pd\n",
    "import geopandas as gp\n",
    "\n",
    "import matplotlib.pyplot as plt\n",
    "from matplotlib.ticker import MultipleLocator, FormatStrFormatter\n",
    "# plt.rc('text', usetex=True)"
   ]
  },
  {
   "cell_type": "markdown",
   "metadata": {},
   "source": [
    "## Paths"
   ]
  },
  {
   "cell_type": "code",
   "execution_count": 2,
   "metadata": {
    "collapsed": true
   },
   "outputs": [],
   "source": [
    "# Data directory\n",
    "data_dir = os.path.join(os.path.curdir, os.path.pardir, os.path.pardir, 'data')\n",
    "\n",
    "# Scenario directory\n",
    "scenarios_dir = os.path.join(os.path.curdir, os.path.pardir, '1_create_scenarios', 'output')\n",
    "\n",
    "# Results directory\n",
    "results_dir = os.path.join(os.path.curdir, os.path.pardir, '2_parameter_selector', 'kkt-approach', 'output')\n",
    "\n",
    "# Output directory\n",
    "output_dir = os.path.join(os.path.curdir, 'output')"
   ]
  },
  {
   "cell_type": "markdown",
   "metadata": {},
   "source": [
    "## Load data"
   ]
  },
  {
   "cell_type": "code",
   "execution_count": 3,
   "metadata": {
    "collapsed": true
   },
   "outputs": [],
   "source": [
    "# Operating scenario data\n",
    "with open(os.path.join(scenarios_dir, '2_scenarios.pickle'), 'rb') as g:\n",
    "    scenarios = pickle.load(g)\n",
    "\n",
    "# Network nodes\n",
    "df_n = pd.read_csv(os.path.join(data_dir, 'egrimod-nem-dataset-v1.3', 'akxen-egrimod-nem-dataset-4806603', 'network', 'network_nodes.csv'), index_col='NODE_ID')\n",
    "\n",
    "# Generator data\n",
    "df_g = pd.read_csv(os.path.join(data_dir, 'egrimod-nem-dataset-v1.3', 'akxen-egrimod-nem-dataset-4806603', 'generators', 'generators.csv'), index_col='DUID')"
   ]
  },
  {
   "cell_type": "markdown",
   "metadata": {},
   "source": [
    "Load and collate model result data in a single DataFrame."
   ]
  },
  {
   "cell_type": "code",
   "execution_count": 4,
   "metadata": {
    "collapsed": true
   },
   "outputs": [],
   "source": [
    "class results_processor(object):\n",
    "    \"Process results from PYOMO model\"\n",
    "    \n",
    "    def __init__(self, results_dir):\n",
    "        # Path to directory containing model results\n",
    "        self.results_dir = results_dir\n",
    "\n",
    "    def scenario_results(self, scenario_name):\n",
    "        \"\"\"Collate DataFrame results from individual scenarios\n",
    "\n",
    "        Param\n",
    "        -----\n",
    "        paths : list\n",
    "            List of strings specifying paths to pickled files containing results\n",
    "\n",
    "        Returns\n",
    "        -------\n",
    "        df_o : Pandas DataFrame\n",
    "            Collated results for different emissions intensity baseline \n",
    "            scenarios in a single DataFrame.    \n",
    "        \"\"\"\n",
    "\n",
    "        # Result files\n",
    "        file_paths = [f for f in os.listdir(self.results_dir) if scenario_name in f]\n",
    "\n",
    "        # Container for fixed emissions intensity baseline scenario results\n",
    "        collated_results = list()\n",
    "\n",
    "        for file in file_paths:\n",
    "            with open(os.path.join(self.results_dir, file), 'rb') as f:\n",
    "                result = pickle.load(f)\n",
    "\n",
    "                # Check that DataFrame exists within result object\n",
    "                if type(result['results']) != pd.core.frame.DataFrame:\n",
    "                    raise Exception('Expected DataFrame, received: {}'.format(type(result['results'])))\n",
    "\n",
    "                # Load DataFrame\n",
    "                df = result['results']\n",
    "\n",
    "                # Append values depending on the scenario being investigated\n",
    "                # Discrete emissions intensity baseline value\n",
    "                if 'PHI_DISCRETE' in result.keys():\n",
    "                    df.loc['PHI_DISCRETE', 'Variable'] = [{'Value': result['PHI_DISCRETE']}]\n",
    "\n",
    "                # Price targeting scenarios\n",
    "                if 'WEIGHTED_RRN_PRICE_TARGET' in result.keys():\n",
    "                    df['WEIGTHED_RRN_PRICE_TARGET'] = result['WEIGHTED_RRN_PRICE_TARGET']\n",
    "                \n",
    "                if 'WEIGHTED_RRN_PRICE_TARGET_BAU_MULTIPLE' in result.keys():\n",
    "                    df['WEIGHTED_RRN_PRICE_TARGET_BAU_MULTIPLE'] = result['WEIGHTED_RRN_PRICE_TARGET_BAU_MULTIPLE']\n",
    "\n",
    "                # Fixed baseline scenarios\n",
    "                if 'FIXED_BASELINE' in result.keys():\n",
    "                    df['FIXED_BASELINE'] = result['FIXED_BASELINE']\n",
    "                    \n",
    "                # Permit price targeting scenario\n",
    "                if 'PERMIT_PRICE_TARGET' in result.keys():\n",
    "                    df['PERMIT_PRICE_TARGET'] = result['PERMIT_PRICE_TARGET']\n",
    "\n",
    "                # Collate results\n",
    "                collated_results.append(df)\n",
    "\n",
    "        # Collated results        \n",
    "        df_o = pd.concat(collated_results)            \n",
    "\n",
    "        return df_o\n",
    "    \n",
    "    \n",
    "    def formatted_results(self, scenario_name):\n",
    "        \"Format scenario results by extracting variable and index names\"\n",
    "    \n",
    "        # Compiled scenario results\n",
    "        df = self.scenario_results(scenario_name)\n",
    "    \n",
    "        # Function used in apply statement to extract variable indices from DataFrame index\n",
    "        def _extract_index(row):\n",
    "            \"Extract variable indices\"\n",
    "\n",
    "            # Scenario inidices\n",
    "            # -----------------\n",
    "            # Extract from index\n",
    "            scenario_indices = re.findall(r'SCENARIO\\[(\\d)+\\]', row.name)\n",
    "\n",
    "            # Expect either 1 or 0 values for scenario index\n",
    "            if len(scenario_indices) == 1:\n",
    "                scenario_index = int(scenario_indices[0])\n",
    "\n",
    "            # Raise exception if more than one scenario index encountered\n",
    "            elif len(scenario_indices) > 1:\n",
    "                raise(Exception('Only expected 1 scenario index to have one element: {0}'.format(scenario_indices)))\n",
    "                scenario_index = np.nan\n",
    "\n",
    "            # If no scenario index, set to null value\n",
    "            else:\n",
    "                scenario_index = np.nan\n",
    "\n",
    "\n",
    "            # Variable indices   \n",
    "            # ----------------\n",
    "            # Extract all variable indices from index. Expect at most 2 indices.\n",
    "            variable_indices = re.findall(r'(?<!SCENARIO)\\[([\\w\\d\\,\\-\\#]+)\\]', row.name)\n",
    "\n",
    "            # Empty list = no variable indices - set to null values\n",
    "            if len(variable_indices) == 0:\n",
    "                variable_index_1 = np.nan\n",
    "                variable_index_2 = np.nan\n",
    "\n",
    "            elif len(variable_indices) == 1:\n",
    "                # Split variable indices if separated comma\n",
    "                variable_indices_split = variable_indices[0].split(',')\n",
    "\n",
    "                # If no variable indices found, set both to null values\n",
    "                if len(variable_indices_split) == 0:\n",
    "                    variable_index_1 = np.nan\n",
    "                    variable_index_2 = np.nan\n",
    "\n",
    "                # If only 1 variable index found\n",
    "                elif len(variable_indices_split) == 1:\n",
    "                    variable_index_1 = variable_indices_split[0]\n",
    "                    variable_index_2 = np.nan\n",
    "\n",
    "                # If 2 variable indices found\n",
    "                elif len(variable_indices_split) == 2:\n",
    "                    variable_index_1, variable_index_2 = variable_indices_split\n",
    "\n",
    "                # Else unexpected number of variable indices encountered (more than 2). Raise exception.\n",
    "                else:\n",
    "                    raise(Exception('Unexpected number of variable indices encountered for {0}'.format(variable_indices_split)))\n",
    "\n",
    "            else:\n",
    "                raise(Exception('Unexpected number of index components: {0}'.format(variable_indices)))\n",
    "\n",
    "            # Handle variable name\n",
    "            if '.' not in row.name:\n",
    "                if '[' in row.name:\n",
    "                    variable_name = re.findall(r'(.+)\\[', row.name)[0]\n",
    "                else:\n",
    "                    variable_name = row.name\n",
    "            else:\n",
    "                regex = r'\\.(.+)\\['\n",
    "                variable_names = re.findall(regex, row.name)\n",
    "\n",
    "                if variable_names:           \n",
    "                    variable_name = variable_names[0]\n",
    "                else:\n",
    "                    variable_name = np.nan\n",
    "\n",
    "            return pd.Series(data={'variable_name': variable_name, 'scenario_index': scenario_index, 'variable_index_1': variable_index_1, 'variable_index_2': variable_index_2})\n",
    "\n",
    "        # DataFrame with extracted indices\n",
    "        df[['variable_name', 'scenario_index', 'variable_index_1', 'variable_index_2']] = df.apply(_extract_index, axis=1)\n",
    "        \n",
    "        return df\n",
    "\n",
    "# Instantiate results processor object\n",
    "results_processor = results_processor(results_dir=results_dir)"
   ]
  },
  {
   "cell_type": "markdown",
   "metadata": {},
   "source": [
    "## Process results from different scenarios"
   ]
  },
  {
   "cell_type": "code",
   "execution_count": 5,
   "metadata": {
    "collapsed": true
   },
   "outputs": [],
   "source": [
    "# # Fixed emissions intensity baseline\n",
    "# # ----------------------------------\n",
    "# df_fixed_baseline = results_processor.formatted_results(scenario_name='fixed_baseline')\n",
    "\n",
    "# # Save DataFrame\n",
    "# with open(os.path.join(output_dir, 'tmp', 'df_fixed_baseline.pickle'), 'wb') as f:\n",
    "#     pickle.dump(df_fixed_baseline, f)\n",
    "\n",
    "\n",
    "# # Weighted Regional Reference Node (RRN) price targeting\n",
    "# # ------------------------------------------------------\n",
    "# df_weighted_rrn_price_target = results_processor.formatted_results(scenario_name='weighted_rrn_price_target')\n",
    "\n",
    "# # Save DataFrame\n",
    "# with open(os.path.join(output_dir, 'tmp', 'df_weighted_rrn_price_target.pickle'), 'wb') as f:\n",
    "#     pickle.dump(df_weighted_rrn_price_target, f)\n",
    "    \n",
    "\n",
    "# # Permit price targeting scenarios\n",
    "# # --------------------------------\n",
    "# df_permit_price_target = results_processor.formatted_results(scenario_name='permit_price_target')\n",
    "\n",
    "# # Save DataFrame\n",
    "# with open(os.path.join(output_dir, 'tmp', 'df_permit_price_target.pickle'), 'wb') as f:\n",
    "#     pickle.dump(df_permit_price_target, f)"
   ]
  },
  {
   "cell_type": "markdown",
   "metadata": {},
   "source": [
    "Load data if processed previously (save time)."
   ]
  },
  {
   "cell_type": "code",
   "execution_count": 6,
   "metadata": {
    "collapsed": true
   },
   "outputs": [],
   "source": [
    "# Fixed baseline scenarios\n",
    "with open(os.path.join(output_dir, 'tmp', 'df_fixed_baseline.pickle'), 'rb') as f:\n",
    "    df_fixed_baseline = pickle.load(f)\n",
    "    \n",
    "# Permit price targeting scenarios\n",
    "with open(os.path.join(output_dir, 'tmp', 'df_permit_price_target.pickle'), 'rb') as f:\n",
    "    df_permit_price_target = pickle.load(f)\n",
    "\n",
    "# Weighted Regional Reference Node (RRN) price targeting scenarios\n",
    "with open(os.path.join(output_dir, 'tmp', 'df_weighted_rrn_price_target.pickle'), 'rb') as f:\n",
    "    df_weighted_rrn_price_target = pickle.load(f)"
   ]
  },
  {
   "cell_type": "markdown",
   "metadata": {},
   "source": [
    "## Exploratory plots\n",
    "### Fixed emissions intensity baseline scenarios\n",
    "#### Permit price as a function of the emissions intensity baseline"
   ]
  },
  {
   "cell_type": "code",
   "execution_count": 7,
   "metadata": {
    "scrolled": true
   },
   "outputs": [
    {
     "data": {
      "image/png": "[encoded data removed]",
      "text/plain": [
       "<matplotlib.figure.Figure at 0x253cedec828>"
      ]
     },
     "metadata": {},
     "output_type": "display_data"
    }
   ],
   "source": [
    "def permit_price_vs_baseline(df, category):\n",
    "    \"\"\"Permit price as a function of emissions intensity baseline\n",
    "    \n",
    "    Parameters\n",
    "    ----------\n",
    "    df : pandas DataFrame\n",
    "        Input dataframe containing collated scenario results\n",
    "    \n",
    "    category : str\n",
    "        Name of colum which is used to differentiate between scenarios\n",
    "        e.g. FIXED_BASELINE\n",
    "        \n",
    "    Returns\n",
    "    -------\n",
    "    df_o : pandas Series\n",
    "        Permit price corresponding to different scenarios    \n",
    "    \"\"\"\n",
    "    \n",
    "    # Permit price as a function of emissions intensity baseline\n",
    "    # Note: Scaling by factor of 100 to take into account prior normalisation\n",
    "    df_o = (df.loc[df['variable_name']=='tau']\n",
    "            .apply(lambda x: pd.Series({'tau': x['Variable']['Value'] * 100, 'category': x[category]}), axis=1)\n",
    "            .set_index('category')['tau'])\n",
    "    \n",
    "    return df_o\n",
    "\n",
    "# Permit price as a function of emissisons intensity baseline\n",
    "df_tau = permit_price_vs_baseline(df_fixed_baseline, category='FIXED_BASELINE')\n",
    "\n",
    "plt.clf()\n",
    "df_tau.plot()\n",
    "plt.show()"
   ]
  },
  {
   "cell_type": "markdown",
   "metadata": {},
   "source": [
    "#### Average wholesale price as a function of the emissions intensity baseline"
   ]
  },
  {
   "cell_type": "code",
   "execution_count": 8,
   "metadata": {
    "scrolled": false
   },
   "outputs": [
    {
     "data": {
      "image/png": "[encoded data removed]",
      "text/plain": [
       "<matplotlib.figure.Figure at 0x253db9decc0>"
      ]
     },
     "metadata": {},
     "output_type": "display_data"
    }
   ],
   "source": [
    "def get_average_prices(df, category):\n",
    "    \"\"\"Compute average electricity price for NEM regions and also for the nation\n",
    "    \n",
    "    Parameters\n",
    "    ----------\n",
    "    df : pandas DataFrame\n",
    "        Input dataframe containing collated scenario results\n",
    "    \n",
    "    category : str\n",
    "        Name of colum which is used to differentiate between scenarios\n",
    "        e.g. FIXED_BASELINE\n",
    "        \n",
    "    Returns\n",
    "    -------\n",
    "    df_o : pandas Series\n",
    "        Average prices for different scenarios for each NEM region and also at the national level\n",
    "    \"\"\"\n",
    "\n",
    "    def _node_revenue_and_demand(row):\n",
    "        \"Compute node revenue and demand for each node for each scenario\"\n",
    "\n",
    "        # Node ID\n",
    "        node = int(row['variable_index_1'])\n",
    "\n",
    "        # Scenario ID\n",
    "        scenario = int(row['scenario_index'])\n",
    "\n",
    "        # Duration of given scenario [hours]\n",
    "        duration = scenarios.loc[('hours', 'duration'), scenario]\n",
    "\n",
    "        # Energy demand at node for given scenario [MWh]\n",
    "        demand_mwh = scenarios.loc[('demand', node), scenario] * duration\n",
    "\n",
    "        # Nodal price taking into account data processing normalisation\n",
    "        price = row['Variable']['Value'] * 100\n",
    "\n",
    "        # Nodal revenue [$]\n",
    "        node_revenue = price * demand_mwh\n",
    "\n",
    "        return pd.Series({'node_revenue': node_revenue, 'demand_mwh': demand_mwh, 'node': node, category: row[category]})\n",
    "\n",
    "    # Filter so only price records remain and then compute revenue and demand for each node and scenario\n",
    "    df_rp = df.loc[df['variable_name']=='lamb'].apply(_node_revenue_and_demand, axis=1)\n",
    "    \n",
    "    # Merge node information\n",
    "    df_rp = pd.merge(df_rp, df_n[['RRN', 'NEM_REGION']], how='left', left_on='node', right_index=True)\n",
    "    \n",
    "    # Average prices by NEM region for different baselines\n",
    "    df_regional_prices = df_rp.groupby(['NEM_REGION', category])[['demand_mwh', 'node_revenue']].sum().apply(lambda x: x['node_revenue'] / x['demand_mwh'], axis=1)\n",
    "\n",
    "    # National average prices\n",
    "    df_national_prices = df_rp.groupby([category])[['demand_mwh', 'node_revenue']].sum().apply(lambda x: x['node_revenue'] / x['demand_mwh'], axis=1)\n",
    "\n",
    "    # Add level to index\n",
    "    df_national_prices.index = pd.MultiIndex.from_tuples([('NATIONAL', b) for b in df_national_prices.index])\n",
    "\n",
    "    # Average wholesale prices\n",
    "    df_o = pd.concat([df_regional_prices, df_national_prices])\n",
    "    \n",
    "    return df_o\n",
    "\n",
    "# Average electricity prices for different emissions intensity baselines\n",
    "df_average_prices = get_average_prices(df_fixed_baseline, category='FIXED_BASELINE')\n",
    "\n",
    "plt.clf()\n",
    "df_average_prices.loc['NATIONAL'].plot()\n",
    "plt.show()"
   ]
  },
  {
   "cell_type": "markdown",
   "metadata": {},
   "source": [
    "#### Regional price impacts for different baselines"
   ]
  },
  {
   "cell_type": "code",
   "execution_count": 9,
   "metadata": {},
   "outputs": [
    {
     "data": {
      "text/plain": [
       "<matplotlib.figure.Figure at 0x253b65065c0>"
      ]
     },
     "metadata": {},
     "output_type": "display_data"
    },
    {
     "data": {
      "image/png": "[encoded data removed]",
      "text/plain": [
       "<matplotlib.figure.Figure at 0x253c1736128>"
      ]
     },
     "metadata": {},
     "output_type": "display_data"
    }
   ],
   "source": [
    "plt.clf()\n",
    "# Average prices in each NEM region, including aggregate national values\n",
    "df_average_prices.reset_index().pivot(index='FIXED_BASELINE', columns='NEM_REGION', values=0).plot()\n",
    "plt.show()"
   ]
  },
  {
   "cell_type": "markdown",
   "metadata": {},
   "source": [
    "#### Weighted Regional Reference Node (RRN) prices"
   ]
  },
  {
   "cell_type": "code",
   "execution_count": 10,
   "metadata": {
    "collapsed": true,
    "scrolled": true
   },
   "outputs": [],
   "source": [
    "def get_weighted_rrn_prices(df, category):\n",
    "    \"\"\"Compute weighted RRN prices for each baseline scenario\n",
    "    \n",
    "    Parameters\n",
    "    ----------\n",
    "    df : pandas DataFrame\n",
    "        Input dataframe containing collated scenario results\n",
    "    \n",
    "    category : str\n",
    "        Name of colum which is used to differentiate between scenarios\n",
    "        e.g. FIXED_BASELINE\n",
    "        \n",
    "    Returns\n",
    "    -------\n",
    "    df_o : pandas Series\n",
    "        Weighted RRN prices for each scenario\n",
    "    \"\"\" \n",
    "\n",
    "    # Demand in each NEM region\n",
    "    region_demand = (scenarios.loc[('demand', slice(None)), :]\n",
    "                     .reset_index()\n",
    "                     .set_index('NODE_ID')\n",
    "                     .join(df_n[['NEM_REGION']], how='left')\n",
    "                     .groupby('NEM_REGION').sum())\n",
    "\n",
    "    # Normalised demand - used to weight RRN prices\n",
    "    rrn_demand_weights = region_demand.div(region_demand.sum())\n",
    "\n",
    "    # Normalised duration - used to weight RRN prices\n",
    "    rrn_duration_weights = (scenarios.loc[('hours', 'duration')]\n",
    "                            .div(scenarios.loc[('hours', 'duration')]\n",
    "                                 .sum()).to_frame().T)\n",
    "\n",
    "    # Prices at all nodes\n",
    "    df_o = df[df['variable_name']=='lamb'].copy()\n",
    "\n",
    "    # Convert node ID to type int\n",
    "    df_o.loc[:, 'variable_index_1'] = df_o['variable_index_1'].astype(int)\n",
    "\n",
    "    # Add region and RRN information\n",
    "    df_o = pd.merge(df_o, df_n[['NEM_REGION', 'RRN']], how='left', left_on='variable_index_1', right_index=True)\n",
    "\n",
    "    # Filter so only Regional Reference Nodes (RRNs) remain\n",
    "    df_o = df_o[df_o['RRN']==1]\n",
    "\n",
    "    # Weighted RRN prices\n",
    "    def _weight_rrn_prices(row):\n",
    "        \"Weight RRN prices so they can act as a proxy for average wholesale prices\"\n",
    "\n",
    "        # Normalised duration\n",
    "        normalised_duration = rrn_duration_weights.loc[('hours', 'duration'), row['scenario_index']]\n",
    "\n",
    "        # RRN price - scaled by factor of 100 to take into account prior normalisation\n",
    "        rrn_price = float(row['Variable']['Value']) * 100\n",
    "\n",
    "        # Normalised demand\n",
    "        normalised_region_demand = rrn_demand_weights.loc[row['NEM_REGION'], row['scenario_index']]\n",
    "\n",
    "        return rrn_price * normalised_duration * normalised_region_demand\n",
    "\n",
    "    df_o['weighted_prices'] = df_o.apply(_weight_rrn_prices, axis=1)\n",
    "\n",
    "    df_o = df_o.groupby(category)['weighted_prices'].sum()\n",
    "    \n",
    "    return df_o\n",
    "\n",
    "# Weighted RRN prices for different fixed baseline scenarios\n",
    "df_weighted_rrn_prices = get_weighted_rrn_prices(df_fixed_baseline, category='FIXED_BASELINE')"
   ]
  },
  {
   "cell_type": "markdown",
   "metadata": {},
   "source": [
    "#### Weighted RRN price and average price as a function of baseline\n",
    "Comparison to see how well weighted RRN prices capture average wholesale price outcomes."
   ]
  },
  {
   "cell_type": "code",
   "execution_count": 11,
   "metadata": {},
   "outputs": [
    {
     "data": {
      "image/png": "[encoded data removed]",
      "text/plain": [
       "<matplotlib.figure.Figure at 0x253dd13bfd0>"
      ]
     },
     "metadata": {},
     "output_type": "display_data"
    }
   ],
   "source": [
    "plt.clf()\n",
    "plt.scatter(df_average_prices['NATIONAL'].tolist(), df_weighted_rrn_prices.tolist())\n",
    "plt.show()"
   ]
  },
  {
   "cell_type": "markdown",
   "metadata": {},
   "source": [
    "#### Generator output by technology type"
   ]
  },
  {
   "cell_type": "code",
   "execution_count": 12,
   "metadata": {
    "collapsed": true
   },
   "outputs": [],
   "source": [
    "def _get_generator_output(row):\n",
    "    # DUID\n",
    "    duid = row['variable_index_1']\n",
    "    \n",
    "    # Duration of given scenario [hours]\n",
    "    duration = scenarios.loc[('hours', 'duration'), row['scenario_index']]\n",
    "    \n",
    "    # Average power output during scenario\n",
    "    power_output = float(row['Variable']['Value'])\n",
    "    \n",
    "    # Energy output - scale by factor of 100 to take into account prior normalisation [MWh]\n",
    "    energy_output = power_output * duration * 100\n",
    "    \n",
    "    # Emissions [tCO2]\n",
    "    emissions = energy_output * df_g.loc[duid, 'EMISSIONS']\n",
    "    \n",
    "    return pd.Series({'energy_output': energy_output,\n",
    "                      'DUID': duid,\n",
    "                      'scenario_index': row['scenario_index'],\n",
    "                      'FIXED_BASELINE': row['FIXED_BASELINE'],\n",
    "                      'emissions': emissions})\n",
    "\n",
    "df_generator_output = df_fixed_baseline.loc[df_fixed_baseline['variable_name']=='p'].apply(_get_generator_output, axis=1)   "
   ]
  },
  {
   "cell_type": "markdown",
   "metadata": {},
   "source": [
    "#### Energy output by technology type for different emissions intensity baselines"
   ]
  },
  {
   "cell_type": "code",
   "execution_count": 13,
   "metadata": {},
   "outputs": [
    {
     "data": {
      "text/plain": [
       "<matplotlib.figure.Figure at 0x253b4ae6be0>"
      ]
     },
     "metadata": {},
     "output_type": "display_data"
    },
    {
     "data": {
      "image/png": "[encoded data removed]",
      "text/plain": [
       "<matplotlib.figure.Figure at 0x253b0781d68>"
      ]
     },
     "metadata": {},
     "output_type": "display_data"
    }
   ],
   "source": [
    "# Energy output from different types of generators\n",
    "df_energy = pd.merge(df_generator_output, df_g[['NEM_REGION', 'FUEL_TYPE', 'FUEL_CAT']], how='left', left_on='DUID', right_index=True).groupby(['FUEL_TYPE', 'FIXED_BASELINE'])[['energy_output']].sum().reset_index().pivot(index='FIXED_BASELINE', columns='FUEL_TYPE', values='energy_output')\n",
    "\n",
    "plt.clf()\n",
    "fig, ax1 = plt.subplots()\n",
    "ax2 = ax1.twinx()\n",
    "pd.merge(df_generator_output, df_g[['NEM_REGION', 'FUEL_TYPE', 'FUEL_CAT']], how='left', left_on='DUID', right_index=True).groupby(['FUEL_TYPE', 'FIXED_BASELINE'])['energy_output'].sum().reset_index().pivot(index='FIXED_BASELINE', columns='FUEL_TYPE', values='energy_output').plot(logy=True, ax=ax1)\n",
    "plt.show()"
   ]
  },
  {
   "cell_type": "code",
   "execution_count": 244,
   "metadata": {},
   "outputs": [
    {
     "data": {
      "text/plain": [
       "<matplotlib.figure.Figure at 0x253c3235780>"
      ]
     },
     "metadata": {},
     "output_type": "display_data"
    },
    {
     "data": {
      "image/png": "[encoded data removed]",
      "text/plain": [
       "<matplotlib.figure.Figure at 0x253c1ac0550>"
      ]
     },
     "metadata": {},
     "output_type": "display_data"
    }
   ],
   "source": [
    "plt.clf()\n",
    "\n",
    "fig, ax1 = plt.subplots()\n",
    "\n",
    "s = pd.Series(['#0071b2', '#ce0037', '#039642'], index=['Black coal', 'Brown coal', 'Natural Gas (Pipeline)'])\n",
    "\n",
    "pd.merge(df_generator_output, df_g[['NEM_REGION', 'FUEL_TYPE', 'FUEL_CAT']], how='left', left_on='DUID', right_index=True).groupby(['FUEL_TYPE', 'FIXED_BASELINE'])['energy_output'].sum().reset_index().pivot(index='FIXED_BASELINE', columns='FUEL_TYPE', values='energy_output')[['Black coal', 'Brown coal', 'Natural Gas (Pipeline)']].plot(logy=True, color=s, legend=False, ax=ax1)\n",
    "\n",
    "ax1.legend(['Black coal', 'Brown coal', 'Natural gas'], fontsize=labelsize)\n",
    "\n",
    "# Format axes labels\n",
    "ax1.set_xlabel('Emissions intensity baseline (tCO$_{2}$/MWh)', fontsize=fontsize)\n",
    "ax1.set_ylabel('Energy output (MWh)', fontsize=fontsize)\n",
    "\n",
    "\n",
    "# Format ticks\n",
    "ax1.minorticks_on()\n",
    "ax1.tick_params(axis='x', labelsize=labelsize)\n",
    "ax1.tick_params(axis='y', labelsize=labelsize)\n",
    "\n",
    "majorLocator = MultipleLocator(0.05)\n",
    "ax1.xaxis.set_major_locator(majorLocator)\n",
    "\n",
    "# Set figure size\n",
    "fig.set_size_inches(7.22433/2, (7.22433/2) / 1.61803398875)\n",
    "fig.subplots_adjust(left=0.13, bottom=0.18, right=0.97, top=0.97)\n",
    "\n",
    "# Save figure\n",
    "fig.savefig('test4.pdf')\n",
    "plt.show()"
   ]
  },
  {
   "cell_type": "markdown",
   "metadata": {},
   "source": [
    "#### Emissions by technology type for different emissions intensity baselines"
   ]
  },
  {
   "cell_type": "code",
   "execution_count": 14,
   "metadata": {},
   "outputs": [
    {
     "data": {
      "text/plain": [
       "<matplotlib.figure.Figure at 0x253dbb192b0>"
      ]
     },
     "metadata": {},
     "output_type": "display_data"
    },
    {
     "data": {
      "image/png": "[encoded data removed]",
      "text/plain": [
       "<matplotlib.figure.Figure at 0x253dd160b70>"
      ]
     },
     "metadata": {},
     "output_type": "display_data"
    }
   ],
   "source": [
    "# Emissions from different types of generators\n",
    "\n",
    "\n",
    "df_emissions = pd.merge(df_generator_output, df_g[['NEM_REGION', 'FUEL_TYPE', 'FUEL_CAT']], how='left', left_on='DUID', right_index=True).groupby(['FUEL_TYPE', 'FIXED_BASELINE'])[['emissions']].sum().reset_index().pivot(index='FIXED_BASELINE', columns='FUEL_TYPE', values='emissions')\n",
    "\n",
    "plt.clf()\n",
    "df_emissions.plot(logy=True)\n",
    "plt.show()"
   ]
  },
  {
   "cell_type": "markdown",
   "metadata": {},
   "source": [
    "## Manuscript Plots\n",
    "Permit price and average national price as a function of baseline"
   ]
  },
  {
   "cell_type": "code",
   "execution_count": 15,
   "metadata": {},
   "outputs": [
    {
     "data": {
      "text/html": [
       "<div>\n",
       "<style scoped>\n",
       "    .dataframe tbody tr th:only-of-type {\n",
       "        vertical-align: middle;\n",
       "    }\n",
       "\n",
       "    .dataframe tbody tr th {\n",
       "        vertical-align: top;\n",
       "    }\n",
       "\n",
       "    .dataframe thead th {\n",
       "        text-align: right;\n",
       "    }\n",
       "</style>\n",
       "<table border=\"1\" class=\"dataframe\">\n",
       "  <thead>\n",
       "    <tr style=\"text-align: right;\">\n",
       "      <th></th>\n",
       "      <th>tau</th>\n",
       "      <th>PERMIT_PRICE_TARGET</th>\n",
       "    </tr>\n",
       "  </thead>\n",
       "  <tbody>\n",
       "    <tr>\n",
       "      <th>tau</th>\n",
       "      <td>27.606544</td>\n",
       "      <td>25.0</td>\n",
       "    </tr>\n",
       "    <tr>\n",
       "      <th>tau</th>\n",
       "      <td>50.289472</td>\n",
       "      <td>50.0</td>\n",
       "    </tr>\n",
       "    <tr>\n",
       "      <th>tau</th>\n",
       "      <td>74.666137</td>\n",
       "      <td>75.0</td>\n",
       "    </tr>\n",
       "    <tr>\n",
       "      <th>tau</th>\n",
       "      <td>96.892303</td>\n",
       "      <td>100.0</td>\n",
       "    </tr>\n",
       "  </tbody>\n",
       "</table>\n",
       "</div>"
      ],
      "text/plain": [
       "           tau  PERMIT_PRICE_TARGET\n",
       "tau  27.606544                 25.0\n",
       "tau  50.289472                 50.0\n",
       "tau  74.666137                 75.0\n",
       "tau  96.892303                100.0"
      ]
     },
     "execution_count": 15,
     "metadata": {},
     "output_type": "execute_result"
    }
   ],
   "source": [
    "# Permit price\n",
    "df_permit_price_target.loc[df_permit_price_target['variable_name']=='tau'].apply(lambda x: pd.Series({'tau': x['Variable']['Value'], 'PERMIT_PRICE_TARGET': x['PERMIT_PRICE_TARGET']}), axis=1).mul(100)"
   ]
  },
  {
   "cell_type": "code",
   "execution_count": 74,
   "metadata": {},
   "outputs": [],
   "source": [
    "# Extract key values and place into DataFrame\n",
    "df_1 = df_weighted_rrn_price_target.loc['PHI_DISCRETE'].apply(lambda x: pd.Series({'PHI_DISCRETE': x['Variable']['Value'], 'WEIGHTED_RRN_PRICE_TARGET_BAU_MULTIPLE': x['WEIGHTED_RRN_PRICE_TARGET_BAU_MULTIPLE'], 'WEIGTHED_RRN_PRICE_TARGET': x['WEIGTHED_RRN_PRICE_TARGET'] * 100}), axis=1)\n",
    "\n",
    "# Average BAU price\n",
    "bau_price = df_average_prices.loc['NATIONAL'].iloc[-1]\n",
    "\n",
    "# Add actual average wholesale prices from scenario\n",
    "df_1_prices = get_average_prices(df_weighted_rrn_price_target, category='WEIGHTED_RRN_PRICE_TARGET_BAU_MULTIPLE')\n",
    "df_1 = pd.merge(df_1, \n",
    "                df_1_prices.loc['NATIONAL'].div(bau_price).to_frame().rename(columns={0: 'AVERAGE_PRICE_BAU_MULTIPLE'}),\n",
    "                left_on='WEIGHTED_RRN_PRICE_TARGET_BAU_MULTIPLE',\n",
    "                right_index=True)\n",
    "\n",
    "# Permit price targeting scenarios\n",
    "df_2 = df_permit_price_target.groupby('PERMIT_PRICE_TARGET')[['Variable']].apply(lambda x: x.loc[['tau', 'PHI_DISCRETE']]).unstack().applymap(lambda x: x['Value'])\n",
    "df_2.columns = df_2.columns.droplevel(0)\n",
    "\n",
    "# Multiply by 100 to account for prior normalisation\n",
    "df_2['tau'] = df_2['tau'] * 100"
   ]
  },
  {
   "cell_type": "code",
   "execution_count": 77,
   "metadata": {},
   "outputs": [
    {
     "data": {
      "text/plain": [
       "<matplotlib.figure.Figure at 0x253dbaf0630>"
      ]
     },
     "metadata": {},
     "output_type": "display_data"
    },
    {
     "data": {
      "text/plain": [
       "<matplotlib.figure.Figure at 0x253dbaf0240>"
      ]
     },
     "metadata": {},
     "output_type": "display_data"
    },
    {
     "data": {
      "image/png": "[encoded data removed]",
      "text/plain": [
       "<matplotlib.figure.Figure at 0x253c2cf6860>"
      ]
     },
     "metadata": {},
     "output_type": "display_data"
    }
   ],
   "source": [
    "plt.clf()\n",
    "\n",
    "# Initialise figure\n",
    "# -----------------\n",
    "fig = plt.figure()\n",
    "ax1 = plt.axes([0.09, 0.62, 0.4, 0.36]) # Average price series\n",
    "ax2 = plt.axes([0.58, 0.62, 0.4, 0.36]) # Average price and target price error\n",
    "ax3 = plt.axes([0.09, 0.12, 0.4, 0.36]) # Permit price series\n",
    "ax4 = plt.axes([0.58, 0.12, 0.4, 0.36]) # Permit price and target error\n",
    "\n",
    "\n",
    "# Parameters common to all figures\n",
    "# --------------------------------\n",
    "fontsize = 9\n",
    "labelsize = 8\n",
    "\n",
    "\n",
    "# Average wholesale prices\n",
    "# ------------------------\n",
    "# Average price for each fixed baseline scenario\n",
    "ax1.plot(df_average_prices.loc['NATIONAL'].div(bau_price).index,\n",
    "         df_average_prices.loc['NATIONAL'].div(bau_price).values, \n",
    "         linestyle='-',\n",
    "         color='#24a585',\n",
    "         marker='o',\n",
    "         markersize=1.5,\n",
    "         linewidth=0.75,\n",
    "         markeredgewidth=0.5)\n",
    "\n",
    "# Baselines for given weighted RRN price target\n",
    "ax1.scatter(df_1['PHI_DISCRETE'], df_1['AVERAGE_PRICE_BAU_MULTIPLE'],\n",
    "            color='red', marker='+', zorder=3)\n",
    "\n",
    "# Horizontal lines denoting price targets\n",
    "for index, row in df_1.iterrows():\n",
    "    ax1.plot([0.9, 1.1], [row['WEIGHTED_RRN_PRICE_TARGET_BAU_MULTIPLE'], row['WEIGHTED_RRN_PRICE_TARGET_BAU_MULTIPLE']], linestyle=':', linewidth=0.5, color='k')\n",
    "\n",
    "# Add label to horizontal lines specifying average price target\n",
    "ax1.text(1.079, 1.405, '$\\hat{\\lambda} = 1.4$', fontsize=fontsize-4)\n",
    "ax1.text(1.079, 1.305, '$\\hat{\\lambda} = 1.3$', fontsize=fontsize-4)\n",
    "ax1.text(1.079, 1.205, '$\\hat{\\lambda} = 1.2$', fontsize=fontsize-4)\n",
    "ax1.text(1.079, 1.105, '$\\hat{\\lambda} = 1.1$', fontsize=fontsize-4)\n",
    "ax1.text(1.079, 0.805, '$\\hat{\\lambda} = 0.8$', fontsize=fontsize-4)\n",
    "\n",
    "# Format axes\n",
    "ax1.set_ylabel('Average price \\n relative to BAU', fontsize=fontsize)\n",
    "ax1.set_xlabel('(a) \\n Emissions intensity baseline (tCO$_{2}$/MWh)', fontsize=fontsize)\n",
    "\n",
    "# Format ticks\n",
    "ax1.minorticks_on()\n",
    "majorLocator = MultipleLocator(0.2)\n",
    "ax1.yaxis.set_major_locator(majorLocator)\n",
    "ax1.tick_params(axis='x', labelsize=labelsize)\n",
    "ax1.tick_params(axis='y', labelsize=labelsize)\n",
    "\n",
    "\n",
    "# Difference between target and outcome - weighted RRN prices\n",
    "# -----------------------------------------------------------\n",
    "# Share common y-axis\n",
    "ax2.get_shared_y_axes().join(ax2, ax1)\n",
    "\n",
    "# Weighted RRN prices and their corresponding price targets\n",
    "ax2.scatter(df_1['WEIGHTED_RRN_PRICE_TARGET_BAU_MULTIPLE'], df_1['AVERAGE_PRICE_BAU_MULTIPLE'], marker='+', color='r')\n",
    "\n",
    "# Straight line with slope = 1\n",
    "ax2.plot([0.8, 1.45], [0.8, 1.45], linestyle=':', linewidth=0.8, color='black')\n",
    "\n",
    "# Set axis limits\n",
    "ax2.set_ylim(0.75, 1.6)\n",
    "ax2.set_xlim(0.75, 1.5)\n",
    "\n",
    "# Set axes labels\n",
    "ax2.set_xlabel('(b)\\nTarget price relative to BAU', fontsize=fontsize)\n",
    "ax2.set_ylabel('Average price\\nrelative to BAU', fontsize=fontsize)\n",
    "\n",
    "# Format ticks\n",
    "ax2.minorticks_on()\n",
    "ax2.tick_params(axis='x', labelsize=8)\n",
    "\n",
    "majorLocator = MultipleLocator(0.2)\n",
    "ax2.yaxis.set_major_locator(majorLocator)\n",
    "\n",
    "majorLocator = MultipleLocator(0.1)\n",
    "ax2.xaxis.set_major_locator(majorLocator)\n",
    "\n",
    "minorLocator = MultipleLocator(0.05)\n",
    "ax2.xaxis.set_minor_locator(minorLocator)\n",
    "\n",
    "ax2.tick_params(axis='x', labelsize=labelsize)\n",
    "ax2.tick_params(axis='y', labelsize=labelsize)\n",
    "\n",
    "ax2.tick_params(axis='x', labelsize=labelsize)\n",
    "ax2.tick_params(axis='y', labelsize=labelsize)\n",
    "\n",
    "\n",
    "# Permit price profile\n",
    "# --------------------\n",
    "ax3.get_shared_x_axes().join(ax3, ax1)\n",
    "\n",
    "for index, row in df_2.iterrows():\n",
    "    ax3.plot([0.9, 1.1], [index * 100, index * 100], linestyle=':', linewidth=0.5, color='k')\n",
    "\n",
    "# Permit prices\n",
    "df_tau.plot(ax=ax3,\n",
    "            linestyle='-',\n",
    "            color='#db1313',\n",
    "            marker='o',\n",
    "            markersize=1.5,\n",
    "            linewidth=0.75,\n",
    "            markeredgewidth=0.5)\n",
    "\n",
    "ax3.scatter(df_2['PHI_DISCRETE'], df_2['tau'], color='blue', marker='2', zorder=3)\n",
    "\n",
    "ax3.set_ylim([-5, 140])\n",
    "\n",
    "# Set axes labels\n",
    "ax3.set_ylabel('Permit price \\n (\\$/tCO$_{2}$)', fontsize=fontsize)\n",
    "ax3.set_xlabel('(c) \\n Emissions intensity baseline (tCO$_{2}$/MWh)', fontsize=fontsize)\n",
    "\n",
    "# Format ticks\n",
    "ax3.minorticks_on()\n",
    "ax3.tick_params(axis='x', labelsize=labelsize)\n",
    "ax3.tick_params(axis='y', labelsize=labelsize)\n",
    "\n",
    "# Add permit price target labels to horizontal lines\n",
    "ax3.text(1.077, 100.5, r'$\\hat{\\tau} = 100$', fontsize=fontsize-4)\n",
    "ax3.text(1.077, 75.5, r'$\\hat{\\tau} = 75$', fontsize=fontsize-4)\n",
    "ax3.text(1.077, 50.5, r'$\\hat{\\tau} = 50$', fontsize=fontsize-4)\n",
    "ax3.text(1.077, 25.5, r'$\\hat{\\tau} = 25$', fontsize=fontsize-4)\n",
    "\n",
    "\n",
    "# Difference between permit price and target\n",
    "# ------------------------------------------\n",
    "ax4.get_shared_y_axes().join(ax4, ax3)\n",
    "ax4.scatter(df_2.reset_index()['PERMIT_PRICE_TARGET'].mul(100), df_2['tau'], marker='2', color='blue')\n",
    "\n",
    "# Line with slope = 1\n",
    "ax4.plot([0, 110], [0, 110], linestyle=':', linewidth=0.8, color='black')\n",
    "\n",
    "# Format labels\n",
    "ax4.set_ylabel('Permit price\\n(\\$/tCO$_{2}$)', fontsize=fontsize, labelpad=0.5)\n",
    "ax4.set_xlabel('(d)\\nTarget permit price (\\$/tCO$_{2}$)', fontsize=fontsize)\n",
    "\n",
    "# Format ticks\n",
    "ax4.minorticks_on()\n",
    "ax4.tick_params(axis='x', labelsize=labelsize)\n",
    "ax4.tick_params(axis='y', labelsize=labelsize)\n",
    "\n",
    "# Set axis limits\n",
    "ax4.set_xlim(-2.5, 120)\n",
    "\n",
    "# Set figure size\n",
    "fig.set_size_inches(7.22433, 3.48761+1)\n",
    "fig.savefig('test.pdf')\n",
    "\n",
    "plt.show()"
   ]
  },
  {
   "cell_type": "code",
   "execution_count": 124,
   "metadata": {},
   "outputs": [
    {
     "data": {
      "text/plain": [
       "<matplotlib.figure.Figure at 0x253b6c40240>"
      ]
     },
     "metadata": {},
     "output_type": "display_data"
    },
    {
     "data": {
      "image/png": "[encoded data removed]",
      "text/plain": [
       "<matplotlib.figure.Figure at 0x253b6c400f0>"
      ]
     },
     "metadata": {},
     "output_type": "display_data"
    }
   ],
   "source": [
    "plt.clf()\n",
    "\n",
    "# Initialise figure\n",
    "fig, ax1 = plt.subplots()\n",
    "\n",
    "# Average price (x-axis) vs weighted RRN price (y-axis)\n",
    "ax1.scatter(df_average_prices.loc['NATIONAL'].div(bau_price), df_weighted_rrn_prices.div(bau_price),\n",
    "            marker='s',\n",
    "            color='#ce0037',\n",
    "            alpha=0.5,\n",
    "            s=10)\n",
    "\n",
    "# Line with slope = 1\n",
    "ax1.plot([0.92, 1.57], [0.92, 1.57], linestyle=':', color='k')\n",
    "\n",
    "# Axes labels\n",
    "ax1.set_xlabel('Average price (\\$/MWh)', fontsize=fontsize)\n",
    "ax1.set_ylabel('Weighted RRN price (\\$/MWh)', fontsize=fontsize)\n",
    "\n",
    "# Format ticks\n",
    "ax1.minorticks_on()\n",
    "ax1.tick_params(axis='x', labelsize=labelsize)\n",
    "ax1.tick_params(axis='y', labelsize=labelsize)\n",
    "\n",
    "# Set figure size\n",
    "fig.set_size_inches(7.22433/2, (7.22433/2) / 1.61803398875)\n",
    "fig.subplots_adjust(left=0.13, bottom=0.18, right=0.97, top=0.97)\n",
    "\n",
    "# Save figure\n",
    "fig.savefig('test2.pdf')\n",
    "plt.show()"
   ]
  },
  {
   "cell_type": "markdown",
   "metadata": {},
   "source": [
    "### Impact of baseline on SRMCs for different technologies"
   ]
  },
  {
   "cell_type": "code",
   "execution_count": 19,
   "metadata": {
    "collapsed": true
   },
   "outputs": [],
   "source": [
    "def construct_srmc_comparison(df_tau, df_g, fuel_types):\n",
    "    \"\"\"Compare SRMCs for different generators for different baselines\n",
    "    \n",
    "    Parameters\n",
    "    ----------\n",
    "    df_tau : pandas Series\n",
    "        Permit prices for different emissions intensity baselines\n",
    "    \n",
    "    df_g : pandas DataFrame\n",
    "        Generator parameters. e.g. SRMCs and emissions intensities\n",
    "        \n",
    "    fuel_types : list\n",
    "        List of fuel types for which the comparison should be carried out\n",
    "    \n",
    "    Returns\n",
    "    -------\n",
    "    means : pandas DataFrame\n",
    "        Contains mean SRMCs for different fuel types and emissions intensity baselines\n",
    "    \n",
    "    errors : pandas DataFrame\n",
    "        SRMC standard deviations for different fuel types and emissions intensity baselines\n",
    "    \"\"\"\n",
    "    \n",
    "    # Container for SRMC DataFrames\n",
    "    dfs = []\n",
    "\n",
    "    # Loop through each fixed baseline scenario\n",
    "    for index, row in df_tau.iteritems():\n",
    "        # Compute udpated SRMCs\n",
    "        s_srmc = df_g['SRMC_2016-17'] + (df_g['EMISSIONS'] - index) * row\n",
    "\n",
    "        # Format columns and add fixed baseline and tau to indentify scenario\n",
    "        df_srmc = s_srmc.to_frame().rename(columns={0: 'SRMC'})\n",
    "        df_srmc['FIXED_BASELINE'] = index\n",
    "        df_srmc['tau'] = row\n",
    "\n",
    "        # Append to DataFrame container\n",
    "        dfs.append(df_srmc)\n",
    "\n",
    "    # Concatenate DataFrames. Compute mean and standard deviation for SRMCs for generators of different fuel types\n",
    "    df = (pd.concat(dfs)\n",
    "          .drop('tau', axis=1)\n",
    "          .join(df_g['FUEL_TYPE'], how='left')\n",
    "          .groupby(['FIXED_BASELINE', 'FUEL_TYPE'])\n",
    "          .apply(lambda x: pd.Series({'SRMC': x['SRMC'].mean(), 'std': x['SRMC'].std()})))\n",
    "\n",
    "    # Standard deviation for selected generators\n",
    "    errors = df[df.index.get_level_values(1).isin(fuel_types)].reset_index().pivot(index='FIXED_BASELINE', columns='FUEL_TYPE', values='std')\n",
    "\n",
    "    # Mean SRMC for selected generators\n",
    "    means = df[df.index.get_level_values(1).isin(fuel_types)].reset_index().pivot(index='FIXED_BASELINE', columns='FUEL_TYPE', values='SRMC')\n",
    "    \n",
    "    return means, errors\n",
    "\n",
    "means, errors = construct_srmc_comparison(df_tau, df_g, ['Black coal', 'Brown coal', 'Natural Gas (Pipeline)'])"
   ]
  },
  {
   "cell_type": "markdown",
   "metadata": {},
   "source": [
    "Plot SRMC bands (maximum and minimum) SRMCs for each main generating technology over a range of emissions intensity baselines."
   ]
  },
  {
   "cell_type": "code",
   "execution_count": 216,
   "metadata": {},
   "outputs": [
    {
     "data": {
      "text/plain": [
       "<matplotlib.figure.Figure at 0x253ca1dbba8>"
      ]
     },
     "metadata": {},
     "output_type": "display_data"
    },
    {
     "data": {
      "image/png": "[encoded data removed]",
      "text/plain": [
       "<matplotlib.figure.Figure at 0x253ca1dbb70>"
      ]
     },
     "metadata": {},
     "output_type": "display_data"
    }
   ],
   "source": [
    "plt.clf()\n",
    "\n",
    "# Initialise figure\n",
    "fig, ax1 = plt.subplots()\n",
    "\n",
    "# Colours associated with each generating technology\n",
    "s = pd.Series(['#0071b2', '#ce0037', '#039642'], index=['Black coal', 'Brown coal', 'Natural Gas (Pipeline)'])\n",
    "\n",
    "# Mean, max, and min SRMCs for different generating technologies\n",
    "means.plot(ax=ax1, color=s, alpha=1, style='--', legend=False, linewidth=0.5)\n",
    "means.add(errors).plot(ax=ax1, style='-', color=s, legend=False, alpha=1, linewidth=0.5)\n",
    "means.subtract(errors).plot(ax=ax1, style='-', color=s, legend=False, alpha=1, linewidth=0.5)\n",
    "\n",
    "# Fill line between upper and lower standard deviation and mean SRMC\n",
    "ax1.fill_between(means.index, means.subtract(errors)['Natural Gas (Pipeline)'], means.add(errors)['Natural Gas (Pipeline)'], facecolor='#039642', alpha=0.5)\n",
    "ax1.fill_between(means.index, means.subtract(errors)['Black coal'], means.add(errors)['Black coal'], facecolor='#0071b2', alpha=0.5)\n",
    "ax1.fill_between(means.index, means.subtract(errors)['Brown coal'], means.add(errors)['Brown coal'], facecolor='#ce0037', alpha=0.5)\n",
    "\n",
    "# Format legend\n",
    "ax1.legend(['Black coal', 'Brown coal', 'Natural gas'], loc=\"upper center\", ncol=3, bbox_to_anchor=(0, 0.15, 1, 1), fontsize=labelsize-1)\n",
    "\n",
    "# Axes labels\n",
    "ax1.set_xlabel('Emissions intensity baseline (tCO$_{2}$/MWh)', fontsize=fontsize)\n",
    "ax1.set_ylabel('SRMC (\\$/MWh)', labelpad=-0.1, fontsize=fontsize)\n",
    "\n",
    "# Format tick labels\n",
    "ax1.minorticks_on()\n",
    "ax1.tick_params(axis='x', labelsize=labelsize)\n",
    "ax1.tick_params(axis='y', labelsize=labelsize)\n",
    "\n",
    "# Set axes limits\n",
    "ax1.set_xlim(0.9, 1.1)\n",
    "ax1.set_ylim(0, 120)\n",
    "\n",
    "# Format figure size\n",
    "fig.set_size_inches(7.22433/2, (7.22433/2) / 1.61803398875)\n",
    "fig.subplots_adjust(left=0.125, bottom=0.175, right=0.955, top=0.905)\n",
    "\n",
    "# Save figure\n",
    "fig.savefig('test3.pdf')\n",
    "\n",
    "plt.show()"
   ]
  }
 ],
 "metadata": {
  "kernelspec": {
   "display_name": "opti env",
   "language": "python",
   "name": "opti"
  },
  "language_info": {
   "codemirror_mode": {
    "name": "ipython",
    "version": 3
   },
   "file_extension": ".py",
   "mimetype": "text/x-python",
   "name": "python",
   "nbconvert_exporter": "python",
   "pygments_lexer": "ipython3",
   "version": "3.6.2"
  }
 },
 "nbformat": 4,
 "nbformat_minor": 2
}
