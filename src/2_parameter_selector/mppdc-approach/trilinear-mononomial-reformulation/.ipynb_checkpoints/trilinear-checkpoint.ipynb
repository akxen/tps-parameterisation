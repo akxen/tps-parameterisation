{
 "cells": [
  {
   "cell_type": "code",
   "execution_count": 1,
   "metadata": {
    "collapsed": true
   },
   "outputs": [],
   "source": [
    "import pandas as pd"
   ]
  },
  {
   "cell_type": "code",
   "execution_count": 2,
   "metadata": {
    "collapsed": true
   },
   "outputs": [],
   "source": [
    "df = pd.read_csv('generators.csv', index_col='DUID')\n",
    "df['LO'] = 0"
   ]
  },
  {
   "cell_type": "code",
   "execution_count": 30,
   "metadata": {},
   "outputs": [
    {
     "data": {
      "text/plain": [
       "True"
      ]
     },
     "execution_count": 30,
     "metadata": {},
     "output_type": "execute_result"
    }
   ],
   "source": [
    "phi_max = 1.5\n",
    "phi_min = 0.8\n",
    "tau_max = 300\n",
    "tau_min = 0\n",
    "\n",
    "\n",
    "x_up = tau_max\n",
    "x_lo = tau_min\n",
    "y_up = phi_max\n",
    "y_lo = phi_min\n",
    "z_up = df['REG_CAP']\n",
    "z_lo = df['LO']\n",
    "\n",
    "condition_1 = (x_up * y_lo * z_lo) + (x_lo * y_up * z_up) <= (x_lo * y_up * z_lo) + (x_up * y_lo * z_up)\n",
    "condition_2 = (x_up * y_lo * z_lo) + (x_lo * y_up * z_up) <= (x_up * y_up * z_lo) + (x_lo * y_lo * z_up)\n",
    "\n",
    "condition_1.all() and condition_2.all()"
   ]
  },
  {
   "cell_type": "code",
   "execution_count": null,
   "metadata": {
    "collapsed": true
   },
   "outputs": [],
   "source": []
  }
 ],
 "metadata": {
  "kernelspec": {
   "display_name": "opti env",
   "language": "python",
   "name": "opti"
  },
  "language_info": {
   "codemirror_mode": {
    "name": "ipython",
    "version": 3
   },
   "file_extension": ".py",
   "mimetype": "text/x-python",
   "name": "python",
   "nbconvert_exporter": "python",
   "pygments_lexer": "ipython3",
   "version": "3.6.2"
  }
 },
 "nbformat": 4,
 "nbformat_minor": 2
}
